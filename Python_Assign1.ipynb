{
  "nbformat": 4,
  "nbformat_minor": 0,
  "metadata": {
    "colab": {
      "provenance": []
    },
    "kernelspec": {
      "name": "python3",
      "display_name": "Python 3"
    },
    "language_info": {
      "name": "python"
    }
  },
  "cells": [
    {
      "cell_type": "markdown",
      "source": [
        "# Task 1: Variables and Data Types"
      ],
      "metadata": {
        "id": "V2Y9IdlWSw5h"
      }
    },
    {
      "cell_type": "code",
      "source": [
        "# a) Create three variables: one for storing your age (integer), one for your name (string), and one to\n",
        "# check if you are a student (Boolean). Print the variables.\n",
        "age=21;\n",
        "name= \"Jotish Kumar\"\n",
        "is_student = True\n",
        "\n",
        "print(\"My age is: \", age)\n",
        "print(\"My Name is :\", name)\n",
        "print(\"I am a Student:\", is_student)"
      ],
      "metadata": {
        "colab": {
          "base_uri": "https://localhost:8080/"
        },
        "id": "WGGzBHpmmyxw",
        "outputId": "d7b56fd8-dd46-4448-9655-7229c9493438"
      },
      "execution_count": 5,
      "outputs": [
        {
          "output_type": "stream",
          "name": "stdout",
          "text": [
            "My age is:  21\n",
            "My Name is : Jotish Kumar\n",
            "I am a Student: True\n"
          ]
        }
      ]
    },
    {
      "cell_type": "code",
      "source": [
        "#b) Perform the following operations and print the results:\n",
        "#- Add 25 to your age variable.\n",
        "\n",
        "Age = age + 25\n",
        "print(\"Updated age is:\", Age)\n",
        "\n",
        "#- Concatenate your name with the string &quot;Smith.&quot;\n",
        "\n",
        "Name = name + \" Smith\"\n",
        "print(\"After Concatening the name is:\", Name)\n",
        "\n",
        "#- Negate the Boolean variable (if True, make it False, and vice versa).\n",
        "\n",
        "is_student = not is_student\n",
        "print(\"Student Status is:\", is_student)\n"
      ],
      "metadata": {
        "colab": {
          "base_uri": "https://localhost:8080/"
        },
        "id": "K7PxnAdfn4zm",
        "outputId": "477d3fcf-bae8-4716-f674-8c102b41f403"
      },
      "execution_count": 8,
      "outputs": [
        {
          "output_type": "stream",
          "name": "stdout",
          "text": [
            "Updated age is: 46\n",
            "After Concatening the name is: Jotish Kumar Smith\n",
            "Student Status is: False\n"
          ]
        }
      ]
    },
    {
      "cell_type": "markdown",
      "source": [
        "#Task 2: Expressions and Operators"
      ],
      "metadata": {
        "id": "8Q1_UryAmvLH"
      }
    },
    {
      "cell_type": "code",
      "source": [
        "#a) A rectangle has a width of 5.5 units and a height of 3.25 units. Store width and height in variables.\n",
        "#Create a new variable called area and write an expression to calculate the area. Print the area in the\n",
        "#output.\n",
        "\n",
        "width = 5.5\n",
        "height = 3.25\n",
        "area = width * height\n",
        "print(\"Area of the rectangle is:\", area)\n"
      ],
      "metadata": {
        "colab": {
          "base_uri": "https://localhost:8080/"
        },
        "id": "0SLPYFZZpOIE",
        "outputId": "55fcca67-590b-458a-a8da-038c36ecdde3"
      },
      "execution_count": 10,
      "outputs": [
        {
          "output_type": "stream",
          "name": "stdout",
          "text": [
            "Area of the rectangle is: 17.875\n"
          ]
        }
      ]
    },
    {
      "cell_type": "code",
      "source": [
        "#b) Take temperature input from user in Celsius. Convert it to Fahrenheit using the formula:\n",
        "#F = (C * 9/5) + 32\n",
        "#Store this temperature in a variable called Fahrenheit and print this variable.\n",
        "\n",
        "celsius = float(input(\"Enter the temperature in Celsius: \"))\n",
        "fahrenheit = (celsius * 9/5) + 32\n",
        "print(\"Temperature in the fahrenheit:\", fahrenheit)"
      ],
      "metadata": {
        "colab": {
          "base_uri": "https://localhost:8080/"
        },
        "id": "1I7ELgk-pWv3",
        "outputId": "25b7b96d-c86b-4591-92a4-6bdf11b8983f"
      },
      "execution_count": 11,
      "outputs": [
        {
          "output_type": "stream",
          "name": "stdout",
          "text": [
            "Enter the temperature in Celsius: 71\n",
            "Temperature in the fahrenheit: 159.8\n"
          ]
        }
      ]
    },
    {
      "cell_type": "code",
      "source": [
        "#c)Take radius of the circle as input from user. Calculate the area of a circle with this radius and store\n",
        "#it in a variable called area. Print area at the end of your code.\n",
        "#(Use the formula: area = π * radius^2, where π (pi) is approximately 3.14159).\n",
        "\n",
        "radius = float(input(\"Enter the radius of the circle: \"))\n",
        "circle_area = 3.14159 * radius ** 2\n",
        "print(\"Area of the circle:\", circle_area)\n"
      ],
      "metadata": {
        "colab": {
          "base_uri": "https://localhost:8080/"
        },
        "id": "Y7KZXV5ipZhn",
        "outputId": "8a63699b-0c5c-4280-b451-398842c69deb"
      },
      "execution_count": 12,
      "outputs": [
        {
          "output_type": "stream",
          "name": "stdout",
          "text": [
            "Enter the radius of the circle: 21\n",
            "Area of the circle: 1385.44119\n"
          ]
        }
      ]
    },
    {
      "cell_type": "markdown",
      "source": [
        "#Task 3: List Manipulation"
      ],
      "metadata": {
        "id": "YsswHYsTmunX"
      }
    },
    {
      "cell_type": "markdown",
      "source": [
        "a) Create a list called &quot;fruits&quot; containing the following fruits:\n",
        "apple, banana, cherry;, date, strawberry, fig, grape. Print the list."
      ],
      "metadata": {
        "id": "9JYcpD20rJpA"
      }
    },
    {
      "cell_type": "code",
      "source": [
        "\n",
        "fruits = [\"apple\", \"banana\", \"cherry\", \"date\", \"strawberry\", \"fig\", \"grape\"]\n",
        "print(\"Fruits in the list are :\", fruits)\n"
      ],
      "metadata": {
        "colab": {
          "base_uri": "https://localhost:8080/"
        },
        "id": "m8HJ1TWQqc9Q",
        "outputId": "404ea38e-6982-416a-ae1a-ad95a08c94fb"
      },
      "execution_count": 6,
      "outputs": [
        {
          "output_type": "stream",
          "name": "stdout",
          "text": [
            "Fruits in the list are : ['apple', 'banana', 'cherry', 'date', 'strawberry', 'fig', 'grape']\n"
          ]
        }
      ]
    },
    {
      "cell_type": "code",
      "source": [
        "# 1. Remove the first and last elements from the &quot;fruits&quot; list. Print the updated list.\n",
        "fruits.pop(0)  # Removes the first element (\"apple\")\n",
        "fruits.pop(-1)  # Removes the last element (\"grape\")\n",
        "print(\"Fruits List after removing first and last elements:\", fruits)\n"
      ],
      "metadata": {
        "colab": {
          "base_uri": "https://localhost:8080/"
        },
        "id": "cgNlrRDSrvrS",
        "outputId": "4e8e25ec-2ce9-493b-d078-674dcff0c944"
      },
      "execution_count": 7,
      "outputs": [
        {
          "output_type": "stream",
          "name": "stdout",
          "text": [
            "Fruits List after removing first and last elements: ['banana', 'cherry', 'date', 'strawberry', 'fig']\n"
          ]
        }
      ]
    },
    {
      "cell_type": "code",
      "source": [
        "#Replace the second to fourth items with [&quot;kiwi&quot;, &quot;lemon&quot;, &quot;mango&quot;]\n",
        "#using list slicing.\n",
        "\n",
        "fruits[1:4] = [\"kiwi\", \"lemon\", \"mango\"]\n",
        "print(\"Fruits List after replacing second to fourth items:\", fruits)"
      ],
      "metadata": {
        "colab": {
          "base_uri": "https://localhost:8080/"
        },
        "id": "vST_ZMIBNmOU",
        "outputId": "6022df8c-4798-4823-f69e-c5cf77fe70fa"
      },
      "execution_count": 8,
      "outputs": [
        {
          "output_type": "stream",
          "name": "stdout",
          "text": [
            "Fruits List after replacing second to fourth items: ['banana', 'kiwi', 'lemon', 'mango', 'fig']\n"
          ]
        }
      ]
    },
    {
      "cell_type": "code",
      "source": [
        "#3. Use the len() function to find how many fruits are in the list.\n",
        "total_fruits = len(fruits)\n",
        "print(\"Total number of fruits in the list:\", total_fruits)"
      ],
      "metadata": {
        "colab": {
          "base_uri": "https://localhost:8080/"
        },
        "id": "OUhmv0SyN5u6",
        "outputId": "b82fe08a-f06b-4bdc-a576-723914677167"
      },
      "execution_count": 9,
      "outputs": [
        {
          "output_type": "stream",
          "name": "stdout",
          "text": [
            "Total number of fruits in the list: 5\n"
          ]
        }
      ]
    },
    {
      "cell_type": "markdown",
      "source": [
        "#Task 4: Dictionary Operations\n",
        "\n"
      ],
      "metadata": {
        "id": "G9F5UI5DON2a"
      }
    },
    {
      "cell_type": "code",
      "source": [
        "#a) Create a dictionary named &quot;capitals&quot; with three key-value pairs: &quot;USA&quot; - &quot;Washington D.C.,&quot;\n",
        "#&quot;France&quot; - &quot;Paris,&quot; and &quot;Japan&quot; - &quot;Tokyo.&quot; Print the dictionary.\n",
        "\n",
        "capitals = {\n",
        "    \"USA\": \"Washington D.C.\",\n",
        "    \"France\": \"Paris\",\n",
        "    \"Japan\": \"Tokyo\"\n",
        "}\n",
        "print(\"Capitals Dictionary is:\", capitals)"
      ],
      "metadata": {
        "colab": {
          "base_uri": "https://localhost:8080/"
        },
        "id": "XgfLgjy0OY_u",
        "outputId": "03cdca5f-af57-4df1-bb81-4e491797b77c"
      },
      "execution_count": 10,
      "outputs": [
        {
          "output_type": "stream",
          "name": "stdout",
          "text": [
            "Capitals Dictionary: {'USA': 'Washington D.C.', 'France': 'Paris', 'Japan': 'Tokyo'}\n"
          ]
        }
      ]
    },
    {
      "cell_type": "code",
      "source": [
        "#b) Add a new country and its capital to the &quot;capitals&quot; dictionary. The country is &quot;Germany,&quot; and the\n",
        "#capital is &quot;Berlin.&quot; Print the updated dictionary.\n",
        "\n",
        "capitals[\"Germany\"] = \"Berlin\"\n",
        "print(\"Updated Capitals Dictionary:\", capitals)"
      ],
      "metadata": {
        "colab": {
          "base_uri": "https://localhost:8080/"
        },
        "id": "4Q4Jpd-sORcQ",
        "outputId": "0f22c647-b477-4e46-c295-d169bd21ed64"
      },
      "execution_count": 11,
      "outputs": [
        {
          "output_type": "stream",
          "name": "stdout",
          "text": [
            "Updated Capitals Dictionary: {'USA': 'Washington D.C.', 'France': 'Paris', 'Japan': 'Tokyo', 'Germany': 'Berlin'}\n"
          ]
        }
      ]
    },
    {
      "cell_type": "code",
      "source": [
        "#c) Check if &quot;France&quot; exists in the &quot;capitals&quot; dictionary. If it does, print &quot;France is in the dictionary,&quot;\n",
        "#otherwise, print &quot;France is not in the dictionary.&quot;\n",
        "\n",
        "if \"France\" in capitals:\n",
        "    print(\"France is in the dictionary.\")\n",
        "else:\n",
        "    print(\"France is not in the dictionary.\")"
      ],
      "metadata": {
        "colab": {
          "base_uri": "https://localhost:8080/"
        },
        "id": "lD1lhFqGOSbd",
        "outputId": "a758e329-c80d-4d92-9805-055c9424d333"
      },
      "execution_count": 12,
      "outputs": [
        {
          "output_type": "stream",
          "name": "stdout",
          "text": [
            "France is in the dictionary.\n"
          ]
        }
      ]
    },
    {
      "cell_type": "markdown",
      "source": [
        "#Task 5: Comparison Operators, Logical Operators and If/Else:\n"
      ],
      "metadata": {
        "id": "yZ2PX8iLPGmj"
      }
    },
    {
      "cell_type": "markdown",
      "source": [
        "a) Create a variable called number that takes user input. Write a block of code that checks if the\n",
        "number is positive or negative. If the number is positive only then further check if it is even or odd.\n",
        "Your output should print “The number is even”, or the “The number is odd”.\n"
      ],
      "metadata": {
        "id": "LELiAY4HPOFb"
      }
    },
    {
      "cell_type": "code",
      "source": [
        "number = int(input(\"Enter a number: \"))\n",
        "if number >= 0:\n",
        "    if number % 2 == 0:\n",
        "        print(\"The number is even.\")\n",
        "    else:\n",
        "        print(\"The number is odd.\")\n",
        "else:\n",
        "    print(\"The number is negative.\")"
      ],
      "metadata": {
        "colab": {
          "base_uri": "https://localhost:8080/"
        },
        "id": "8dR-ezuoPP2D",
        "outputId": "7c367b5f-7224-479a-87f2-f23bf9e2a6f4"
      },
      "execution_count": 19,
      "outputs": [
        {
          "output_type": "stream",
          "name": "stdout",
          "text": [
            "Enter a number: 4\n",
            "The number is even.\n"
          ]
        }
      ]
    },
    {
      "cell_type": "markdown",
      "source": [
        "b) Create two variables called age and GPA. Give them values of your choice. Next, write a block of\n",
        "code to check if a student with this age and GPA is eligible for admission. The following are the\n",
        "conditions:\n",
        "- The student must be at least 18 years old.\n",
        "- The student&#39;s GPA must be 3.0 or higher on a scale of 4.0.\n",
        "Your output should print “Eligible for admission” or “Not eligible for admission”."
      ],
      "metadata": {
        "id": "5FeDIQpbPI45"
      }
    },
    {
      "cell_type": "code",
      "source": [
        "age = 21\n",
        "gpa = 3.5\n",
        "if age >= 18 and gpa >= 3.0:\n",
        "    print(\"Eligible for admission.\")\n",
        "else:\n",
        "    print(\"Not eligible for admission.\")"
      ],
      "metadata": {
        "colab": {
          "base_uri": "https://localhost:8080/"
        },
        "id": "ARjaCF6wPRdX",
        "outputId": "c691f281-f523-4f28-a46e-3daa6e001d5d"
      },
      "execution_count": 20,
      "outputs": [
        {
          "output_type": "stream",
          "name": "stdout",
          "text": [
            "Eligible for admission.\n"
          ]
        }
      ]
    },
    {
      "cell_type": "markdown",
      "source": [
        "#Task 6: Strings Manipulation\n"
      ],
      "metadata": {
        "id": "AaSZ0tHFQXva"
      }
    },
    {
      "cell_type": "markdown",
      "source": [
        "a) Create a string variable containing the following sentence:\n",
        "&quot;Python programming is fun and powerful!&quot;\n",
        "Write Python code to do the following and print the results:"
      ],
      "metadata": {
        "id": "4TvCFFWmQ0Nb"
      }
    },
    {
      "cell_type": "code",
      "source": [
        "sentence = \"Python programming is fun and powerful!\"\n",
        "\n",
        "# 1. Find the length of the string\n",
        "length_of_string = len(sentence)\n",
        "print(\"Length of the string is:\", length_of_string)\n",
        "\n",
        "# 2. Convert the string to uppercase\n",
        "uppercase_string = sentence.upper()\n",
        "print(\"Uppercase string is:\", uppercase_string)\n",
        "\n",
        "# 3. Replace \"fun\" with \"exciting\"\n",
        "replace_string = sentence.replace(\"fun\", \"exciting\")\n",
        "print(\"Replace string is:\", replace_string)\n",
        "\n",
        "# 4. Check if the string contains the word \"Python\"\n",
        "contains_python = \"Python\" in sentence\n",
        "print(\"Does the string contain word Python ?\", contains_python)\n",
        "\n",
        "# 5. Extract the last word \"powerful!\"\n",
        "\n",
        "# 6. Remove the word \"programming\" from the sentence\n",
        "remove_programming_sentence = sentence.replace(\"programming \", \"\")\n",
        "print(\"Sentence without the word 'programming':\", remove_programming_sentence)"
      ],
      "metadata": {
        "colab": {
          "base_uri": "https://localhost:8080/"
        },
        "id": "gCqshOzQQd5e",
        "outputId": "61e18150-3950-4107-ddee-f522c8d6fb65"
      },
      "execution_count": 21,
      "outputs": [
        {
          "output_type": "stream",
          "name": "stdout",
          "text": [
            "Length of the string is: 39\n",
            "Uppercase string is: PYTHON PROGRAMMING IS FUN AND POWERFUL!\n",
            "Replace string is: Python programming is exciting and powerful!\n",
            "Does the string contain word Python ? True\n",
            "Sentence without the word 'programming': Python is fun and powerful!\n"
          ]
        }
      ]
    },
    {
      "cell_type": "markdown",
      "source": [
        "b) Given the string email = &quot;user@example.com&quot;, perform the following:\n",
        " Extract the username part (everything before the &quot;@&quot; symbol).\n",
        " Extract the domain part (everything after the &quot;@&quot; symbol).\n",
        " Check if the email contains the substring &quot;example&quot;."
      ],
      "metadata": {
        "id": "5c1fGj2KQcqL"
      }
    },
    {
      "cell_type": "code",
      "source": [
        "email = \"jotishkumar950@.com\"\n",
        "\n",
        "# Extract the username part (everything before the \"@\")\n",
        "\n",
        "# Extract the domain part (everything after the \"@\")\n",
        "\n",
        "# Check if the email contains the substring \"example\"\n",
        "contains_jotish = \"jotish\" in email\n",
        "print(\"Does the email contain 'jotish'?\", contains_jotish)"
      ],
      "metadata": {
        "colab": {
          "base_uri": "https://localhost:8080/"
        },
        "id": "X5n-YCBVQe95",
        "outputId": "ff76a329-9b79-4cd3-931d-355852192a80"
      },
      "execution_count": 23,
      "outputs": [
        {
          "output_type": "stream",
          "name": "stdout",
          "text": [
            "Does the email contain 'jotish'? True\n"
          ]
        }
      ]
    }
  ]
}